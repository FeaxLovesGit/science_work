{
 "cells": [
  {
   "cell_type": "markdown",
   "metadata": {},
   "source": [
    "20июля 2018\n",
    "Проверяю тем, что в цикле 1000 раз запускаю на разных данных."
   ]
  },
  {
   "cell_type": "code",
   "execution_count": 2,
   "metadata": {},
   "outputs": [],
   "source": [
    "%reload_ext autoreload\n",
    "import pandas as pd\n",
    "import numpy as np\n",
    "\n",
    "from sklearn.linear_model import LogisticRegression\n",
    "\n",
    "from make_ready_data.make_ready_big_data import read_data, get_label, get_feat\n",
    "from make_ready_data.make_ready_big_data import look_through_info, get_train_and_test_sets\n",
    "from make_ready_data.make_ready_short_data import get_short_test_data_from_Svetlana_G"
   ]
  },
  {
   "cell_type": "code",
   "execution_count": 3,
   "metadata": {},
   "outputs": [],
   "source": [
    "info, final_filelist = read_data()\n",
    "data_sick, data_heal, inds_sick, inds_heal = look_through_info(info, final_filelist)"
   ]
  },
  {
   "cell_type": "code",
   "execution_count": 4,
   "metadata": {},
   "outputs": [],
   "source": [
    "# plot_labels = ['RR', 'TQ', 'QTc', 'JTc', 'TpeakTend']\n",
    "plot_labels = ['QTc', 'JTc', 'TpeakTend', 'TQ', 'RR']\n",
    "N_FEATURES = len(plot_labels)"
   ]
  },
  {
   "cell_type": "code",
   "execution_count": 7,
   "metadata": {},
   "outputs": [
    {
     "name": "stdout",
     "output_type": "stream",
     "text": [
      "18-191.csv\n",
      "[1. 1. 1. 1. 1.]\n",
      "\n",
      "18-320.csv\n",
      "[1. 1. 1. 1. 1. 1.]\n",
      "\n",
      "18-653.csv\n",
      "[1. 1. 1. 1. 1.]\n",
      "\n",
      "18-1967.csv\n",
      "[1. 1. 1. 1.]\n",
      "\n",
      "18-1351.csv\n",
      "[1. 1. 1.]\n",
      "\n",
      "18-752.csv\n",
      "[1. 1. 1. 1. 1. 1. 1.]\n",
      "\n",
      "18-238.csv\n",
      "[1. 1. 1. 1.]\n",
      "\n",
      "18-122.csv\n",
      "[1. 1. 1. 1. 1. 1. 1.]\n",
      "\n",
      "18-880.csv\n",
      "[1. 1. 1. 1.]\n",
      "\n"
     ]
    }
   ],
   "source": [
    "test_patients_data = get_short_test_data_from_Svetlana_G(\"data/test_data\")\n",
    "\n",
    "all_data = np.concatenate((data_heal, data_sick))\n",
    "np.random.seed(0)\n",
    "np.random.shuffle(all_data)\n",
    "\n",
    "n_tests = 1000\n",
    "\n",
    "for data in test_patients_data:\n",
    "    print(data[0])\n",
    "    res1000 = np.zeros(data[1].shape[0])\n",
    "    for _ in range(n_tests):\n",
    "        clf = LogisticRegression(C=1000.)\n",
    "        clf.fit(all_data[:, :-1], all_data[:, -1])\n",
    "        res1000 = res1000 + clf.predict(data[1])\n",
    "    res1000 = res1000 / n_tests\n",
    "    print(res1000)\n",
    "    print()"
   ]
  },
  {
   "cell_type": "code",
   "execution_count": 4,
   "metadata": {},
   "outputs": [
    {
     "name": "stdout",
     "output_type": "stream",
     "text": [
      "18-191.csv\n",
      "[1.    0.999 1.    1.    1.   ]\n",
      "\n",
      "18-320.csv\n",
      "[1. 1. 1. 1. 1. 1.]\n",
      "\n",
      "18-653.csv\n",
      "[0.999 1.    0.971 1.    1.   ]\n",
      "\n",
      "18-1967.csv\n",
      "[1.    0.997 1.    1.   ]\n",
      "\n",
      "18-1351.csv\n",
      "[1. 1. 1.]\n",
      "\n",
      "18-752.csv\n",
      "[0.049 1.    1.    1.    1.    1.    1.   ]\n",
      "\n",
      "18-238.csv\n",
      "[1. 1. 1. 1.]\n",
      "\n",
      "18-122.csv\n",
      "[1. 1. 1. 1. 1. 1. 1.]\n",
      "\n",
      "18-880.csv\n",
      "[1. 1. 1. 1.]\n",
      "\n"
     ]
    }
   ],
   "source": [
    "# test_patients_data has format like (filename, values)\n",
    "test_patients_data = get_short_test_data_from_Svetlana_G(\"data/test_data\")\n",
    "n_tests = 1000\n",
    "\n",
    "all_data = np.concatenate((data_heal, data_sick))\n",
    "np.random.seed(0)\n",
    "np.random.shuffle(all_data)\n",
    "\n",
    "\n",
    "for data in test_patients_data:\n",
    "    print(data[0])\n",
    "    res1000 = np.zeros(data[1].shape[0])\n",
    "    for _ in range(n_tests):\n",
    "        tr_d, ts_d, tr_l, ts_l, _ = get_train_and_test_sets(data_sick, data_heal, inds_sick, inds_heal, 1.)\n",
    "        clf = LogisticRegression(C=1000.)\n",
    "        clf.fit(tr_d, tr_l)\n",
    "        res1000 = res1000 + clf.predict(data[1])\n",
    "    res1000 = res1000 / n_tests\n",
    "    print(res1000)\n",
    "    print()"
   ]
  }
 ],
 "metadata": {
  "kernelspec": {
   "display_name": "Python 3",
   "language": "python",
   "name": "python3"
  },
  "language_info": {
   "codemirror_mode": {
    "name": "ipython",
    "version": 3
   },
   "file_extension": ".py",
   "mimetype": "text/x-python",
   "name": "python",
   "nbconvert_exporter": "python",
   "pygments_lexer": "ipython3",
   "version": "3.5.2"
  }
 },
 "nbformat": 4,
 "nbformat_minor": 2
}
