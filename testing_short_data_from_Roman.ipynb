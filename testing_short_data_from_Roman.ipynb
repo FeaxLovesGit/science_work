{
 "cells": [
  {
   "cell_type": "markdown",
   "metadata": {},
   "source": [
    "16 июля 2018\n",
    "\n",
    "Подключаю функцию get_short_test_data_from_Romanov, которая вернет обычный тестовый массив.\n",
    "Примает на вход имя файла, с которого смотреть данные и bool параметр is_automatic_measure.\n",
    "Проверяю тем, что в цикле 1000 раз запускаю на разных данных."
   ]
  },
  {
   "cell_type": "code",
   "execution_count": 3,
   "metadata": {},
   "outputs": [],
   "source": [
    "%reload_ext autoreload\n",
    "import pandas as pd\n",
    "import numpy as np\n",
    "\n",
    "from sklearn.linear_model import LogisticRegression\n",
    "\n",
    "from make_ready_data.make_ready_big_data import read_data, get_label, get_feat\n",
    "from make_ready_data.make_ready_big_data import look_through_info, get_train_and_test_sets\n",
    "from make_ready_data.make_ready_short_data import get_short_test_data_from_Romanov"
   ]
  },
  {
   "cell_type": "code",
   "execution_count": 4,
   "metadata": {},
   "outputs": [],
   "source": [
    "info, final_filelist = read_data()\n",
    "data_sick, data_heal, inds_sick, inds_heal = look_through_info(info, final_filelist)"
   ]
  },
  {
   "cell_type": "code",
   "execution_count": 5,
   "metadata": {},
   "outputs": [],
   "source": [
    "# plot_labels = ['RR', 'TQ', 'QTc', 'JTc', 'TpeakTend']\n",
    "plot_labels = ['QTc', 'JTc', 'TpeakTend', 'TQ', 'RR']\n",
    "N_FEATURES = len(plot_labels)"
   ]
  },
  {
   "cell_type": "code",
   "execution_count": 19,
   "metadata": {},
   "outputs": [
    {
     "name": "stdout",
     "output_type": "stream",
     "text": [
      "TQ_manualis dropped\n"
     ]
    }
   ],
   "source": [
    "ts_d2 = get_short_test_data_from_Romanov(\"./data/short_test_data_from_Roman.csv\", automatic_measure=True)\n",
    "\n",
    "res10 = np.zeros(6)\n",
    "res100 = np.zeros(6)\n",
    "res1000 = np.zeros(6)\n",
    "\n",
    "n_tests = 1000\n",
    "for _ in range(n_tests):\n",
    "    tr_d, ts_d, tr_l, ts_l, _ = get_train_and_test_sets(data_sick, data_heal, inds_sick, inds_heal, 0.5)\n",
    "#     tr_d = ts_d\n",
    "#     tr_l = ts_l\n",
    "\n",
    "    clf = LogisticRegression(C=10.)\n",
    "    clf.fit(tr_d, tr_l)\n",
    "    res10 = res10 + clf.predict(ts_d2)\n",
    "\n",
    "    clf = LogisticRegression(C=100.)\n",
    "    clf.fit(tr_d, tr_l)\n",
    "    res100 = res100 + clf.predict(ts_d2)\n",
    "\n",
    "    clf = LogisticRegression(C=1000.)\n",
    "    clf.fit(tr_d, tr_l)\n",
    "    res1000 = res1000 + clf.predict(ts_d2)\n",
    "    \n",
    "res10 = res10 / n_tests\n",
    "res100 = res100 / n_tests\n",
    "res1000 = res1000 / n_tests\n"
   ]
  },
  {
   "cell_type": "code",
   "execution_count": 20,
   "metadata": {},
   "outputs": [
    {
     "name": "stdout",
     "output_type": "stream",
     "text": [
      "[0.998 1.    1.    1.    1.    1.   ]\n",
      "[1. 1. 1. 1. 1. 1.]\n",
      "[1. 1. 1. 1. 1. 1.]\n"
     ]
    }
   ],
   "source": [
    "print(res10)\n",
    "print(res100)\n",
    "print(res1000)"
   ]
  },
  {
   "cell_type": "markdown",
   "metadata": {},
   "source": [
    "Manual, small data for learning\n",
    "<br> [0.829 0.992 0.990 0.992 0.914 0.992]\n",
    "<br> [0.964 0.989 0.985 0.990 0.977 0.986]\n",
    "<br> [0.973 0.986 0.978 0.989 0.973 0.983]"
   ]
  },
  {
   "cell_type": "markdown",
   "metadata": {},
   "source": [
    "Automatic, small data for learning\n",
    "<br> [0.854 0.990 0.983 0.991 0.941 0.990]\n",
    "<br> [0.971 0.990 0.991 0.991 0.983 0.990]\n",
    "<br> [0.981 0.986 0.981 0.991 0.984 0.986]"
   ]
  },
  {
   "cell_type": "markdown",
   "metadata": {},
   "source": [
    "Manual/Automatic, big data for learning\n",
    "<br> [1. 1. 1. 1. 1. 1.]\n",
    "<br> [1. 1. 1. 1. 1. 1.]\n",
    "<br> [1. 1. 1. 1. 1. 1.]\n"
   ]
  }
 ],
 "metadata": {
  "kernelspec": {
   "display_name": "Python 3",
   "language": "python",
   "name": "python3"
  },
  "language_info": {
   "codemirror_mode": {
    "name": "ipython",
    "version": 3
   },
   "file_extension": ".py",
   "mimetype": "text/x-python",
   "name": "python",
   "nbconvert_exporter": "python",
   "pygments_lexer": "ipython3",
   "version": "3.5.2"
  }
 },
 "nbformat": 4,
 "nbformat_minor": 2
}
