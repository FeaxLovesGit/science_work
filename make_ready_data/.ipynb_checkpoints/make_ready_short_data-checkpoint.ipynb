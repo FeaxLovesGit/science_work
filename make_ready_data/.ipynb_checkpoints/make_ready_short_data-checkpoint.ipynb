{
 "cells": [
  {
   "cell_type": "markdown",
   "metadata": {},
   "source": [
    "Просто получили массив значений. Каждая строка - отдельный пациент.\n",
    "\n",
    "Признаки в столбцах согласно корректному plot_labels. \n",
    "<br>plot_labels = ['RR', 'TQ', 'QTc', 'JTc', 'TpeakTend'] ------> WRONG!\n",
    "<br>plot_labels = ['QTc', 'JTc', 'TpeakTend', 'TQ', 'RR'] ------> CORRECT!"
   ]
  },
  {
   "cell_type": "code",
   "execution_count": 22,
   "metadata": {},
   "outputs": [],
   "source": [
    "import pandas as pd\n",
    "\n",
    "import numpy as np\n",
    "\n",
    "import os"
   ]
  },
  {
   "cell_type": "code",
   "execution_count": 68,
   "metadata": {},
   "outputs": [],
   "source": [
    "def get_short_test_data_from_Roman(filepath=\"./test_data.ods\", automatic_measure=True):\n",
    "    df = pd.read_csv(filepath, header=None, index_col=0)\n",
    "    if automatic_measure:\n",
    "        print(df.index[4] + \"is dropped\")\n",
    "        df = df.drop(df.index[4])\n",
    "    else:\n",
    "        print(df.index[3] + \"is dropped\")\n",
    "        df = df.drop(df.index[3])\n",
    "    return df.values.T"
   ]
  },
  {
   "cell_type": "code",
   "execution_count": 69,
   "metadata": {},
   "outputs": [
    {
     "name": "stdout",
     "output_type": "stream",
     "text": [
      "TQ_automaticis dropped\n"
     ]
    },
    {
     "data": {
      "text/plain": [
       "array([[0.41354, 0.29507, 0.05898, 0.42532, 0.85646],\n",
       "       [0.45826, 0.3344 , 0.07132, 0.52151, 0.96893],\n",
       "       [0.4019 , 0.28219, 0.05522, 0.53729, 0.97203],\n",
       "       [0.43372, 0.32206, 0.07995, 0.50022, 0.96538],\n",
       "       [0.42492, 0.30119, 0.05894, 0.45045, 0.88095],\n",
       "       [0.42706, 0.30092, 0.06606, 0.51288, 0.96229]])"
      ]
     },
     "execution_count": 69,
     "metadata": {},
     "output_type": "execute_result"
    }
   ],
   "source": [
    "# get_short_test_data_from_Romanov(\"./data/short_test_data_from_Roman.csv\", automatic_measure=False)"
   ]
  },
  {
   "cell_type": "code",
   "execution_count": 65,
   "metadata": {},
   "outputs": [
    {
     "name": "stdout",
     "output_type": "stream",
     "text": [
      "18-191.csv\n",
      "18-320.csv\n",
      "18-653.csv\n",
      "18-1967.csv\n",
      "18-1351.csv\n",
      "18-752.csv\n",
      "18-238.csv\n",
      "18-122.csv\n",
      "18-880.csv\n"
     ]
    },
    {
     "data": {
      "text/plain": [
       "[array([[0.39300793, 0.31301509, 0.067702  , 0.47165   , 0.829614  ],\n",
       "        [0.38772265, 0.29815614, 0.06092   , 0.445144  , 0.798294  ],\n",
       "        [0.4017357 , 0.3159021 , 0.06859   , 0.421965  , 0.780905  ],\n",
       "        [0.42062343, 0.32019209, 0.06181   , 0.40639   , 0.77809   ],\n",
       "        [0.42013658, 0.31629279, 0.06936   , 0.41515   , 0.78575   ]]),\n",
       " array([[0.37848573, 0.291638  , 0.07999   , 0.865798  , 1.296808  ],\n",
       "        [0.38821548, 0.2787733 , 0.09012   , 0.7667    , 1.20879   ],\n",
       "        [0.38955846, 0.29012692, 0.07384   , 0.87864   , 1.30694   ],\n",
       "        [0.38327881, 0.27807548, 0.07249   , 0.81083   , 1.249     ],\n",
       "        [0.38855152, 0.28310108, 0.06882   , 0.75521   , 1.18945   ],\n",
       "        [0.39823253, 0.2986744 , 0.0797    , 0.64564   , 1.07996   ]]),\n",
       " array([[0.40118512, 0.29928982, 0.05327   , 0.425931  , 0.780321  ],\n",
       "        [0.4012304 , 0.29895021, 0.0551    , 0.4976    , 0.85203   ],\n",
       "        [0.38558928, 0.28200929, 0.04725   , 0.47097   , 0.82689   ],\n",
       "        [0.44468764, 0.31598918, 0.10467   , 0.42127   , 0.82564   ],\n",
       "        [0.39795417, 0.29929103, 0.06718   , 0.4513    , 0.8129    ]]),\n",
       " array([[0.39805962, 0.29595726, 0.06151   , 0.49678   , 0.86754   ],\n",
       "        [0.38913774, 0.27549384, 0.04188   , 0.50906   , 0.87151   ],\n",
       "        [0.40846363, 0.27668666, 0.06736   , 0.49944   , 0.88076   ],\n",
       "        [0.39887558, 0.26598098, 0.05      , 0.50151   , 0.87585   ]]),\n",
       " array([[0.40892984, 0.3118173 , 0.07019   , 0.81372   , 1.27557   ],\n",
       "        [0.35013815, 0.25874541, 0.07661   , 0.90634   , 1.30179   ],\n",
       "        [0.45609171, 0.34878681, 0.10105   , 0.71692   , 1.21388   ]]),\n",
       " array([[0.32508102, 0.25159299, 0.07632   , 0.686866  , 1.014256  ],\n",
       "        [0.42190332, 0.35173173, 0.09716   , 0.48002   , 0.90492   ],\n",
       "        [0.45246746, 0.37291089, 0.09456   , 0.53114   , 0.96156   ],\n",
       "        [0.41497396, 0.34817755, 0.08057   , 0.61248   , 1.0194    ],\n",
       "        [0.39950343, 0.32143704, 0.08012   , 0.62197   , 1.02533   ],\n",
       "        [0.39746755, 0.33045101, 0.09259   , 0.5388    , 0.94127   ],\n",
       "        [0.42036066, 0.31775196, 0.07892   , 0.66183   , 1.06966   ]]),\n",
       " array([[0.42603715, 0.30546404, 0.0656    , 0.474374  , 0.872274  ],\n",
       "        [0.39400139, 0.27109411, 0.05591   , 0.51833   , 0.88631   ],\n",
       "        [0.40076887, 0.29562148, 0.06026   , 0.53373   , 0.91103   ],\n",
       "        [0.38950048, 0.27292379, 0.5914    , 0.53711   , 0.90888   ]]),\n",
       " array([[0.41622921, 0.291323  , 0.05808   , 0.524081  , 0.924231  ],\n",
       "        [0.43816667, 0.31728701, 0.05916   , 0.42926   , 0.8505    ],\n",
       "        [0.42653339, 0.29467845, 0.04009   , 0.55248   , 0.94584   ],\n",
       "        [0.43140506, 0.31381644, 0.07096   , 0.52723   , 0.94679   ],\n",
       "        [0.42810543, 0.2922208 , 0.04443   , 0.52031   , 0.93687   ],\n",
       "        [0.41538538, 0.28433122, 0.05479   , 0.46753   , 0.86959   ],\n",
       "        [0.44409862, 0.30360805, 0.06166   , 0.52522   , 0.93935   ]]),\n",
       " array([[0.42909015, 0.32651923, 0.07824   , 0.45074   , 0.84523   ],\n",
       "        [0.43259257, 0.32403926, 0.06145   , 0.44356   , 0.84127   ],\n",
       "        [0.43050226, 0.3214539 , 0.06339   , 0.44863   , 0.84349   ],\n",
       "        [0.43245056, 0.30566721, 0.06772   , 0.43288   , 0.83005   ]])]"
      ]
     },
     "execution_count": 65,
     "metadata": {},
     "output_type": "execute_result"
    }
   ],
   "source": [
    "get_short_test_data_from_Svetlana_G(dirpath=\"/home/feax/Desktop/FeaxLovesGit/science_work/data/test_data\")"
   ]
  },
  {
   "cell_type": "code",
   "execution_count": 64,
   "metadata": {},
   "outputs": [],
   "source": [
    "def get_short_test_data_from_Svetlana_G(dirpath=\"../data/test_data\"):\n",
    "    plot_labels = ['QTc(B)', 'JTc(B)', 'TpeakTend', 'TQ', 'R-R']\n",
    "    list_files = os.listdir(dirpath)\n",
    "    test_patient_data_list = []\n",
    "    for file in list_files:\n",
    "        print(file)\n",
    "        df = pd.read_csv(dirpath+\"/\"+file, header=None,\n",
    "                         skiprows=[0,2,3,4,6]+list(range(10, 20)), index_col=1)\n",
    "        \n",
    "        df = df[df < 3].dropna(axis=1)\n",
    "        df = df.reindex(plot_labels)\n",
    "        test_patient_data_list.append(df.values.T)\n",
    "    return test_patient_data_list"
   ]
  },
  {
   "cell_type": "code",
   "execution_count": 53,
   "metadata": {},
   "outputs": [
    {
     "name": "stdout",
     "output_type": "stream",
     "text": [
      "18-191.csv\n",
      "                  3         4         5         6         7\n",
      "1                                                          \n",
      "R-R        0.829614  0.798294  0.780905  0.778090  0.785750\n",
      "QTc(B)     0.393008  0.387723  0.401736  0.420623  0.420137\n",
      "JTc(B)     0.313015  0.298156  0.315902  0.320192  0.316293\n",
      "TpeakTend  0.067702  0.060920  0.068590  0.061810  0.069360\n",
      "TQ         0.471650  0.445144  0.421965  0.406390  0.415150\n",
      "\n",
      "\n",
      "18-320.csv\n",
      "                  3         4         5         6         7         8\n",
      "1                                                                    \n",
      "R-R        1.296808  1.208790  1.306940  1.249000  1.189450  1.079960\n",
      "QTc(B)     0.378486  0.388215  0.389558  0.383279  0.388552  0.398233\n",
      "JTc(B)     0.291638  0.278773  0.290127  0.278075  0.283101  0.298674\n",
      "TpeakTend  0.079990  0.090120  0.073840  0.072490  0.068820  0.079700\n",
      "TQ         0.865798  0.766700  0.878640  0.810830  0.755210  0.645640\n",
      "\n",
      "\n",
      "18-653.csv\n",
      "                  3        4         5         6         7\n",
      "1                                                         \n",
      "R-R        0.780321  0.85203  0.826890  0.825640  0.812900\n",
      "QTc(B)     0.401185  0.40123  0.385589  0.444688  0.397954\n",
      "JTc(B)     0.299290  0.29895  0.282009  0.315989  0.299291\n",
      "TpeakTend  0.053270  0.05510  0.047250  0.104670  0.067180\n",
      "TQ         0.425931  0.49760  0.470970  0.421270  0.451300\n",
      "\n",
      "\n",
      "18-1967.csv\n",
      "                  3         4         5         6\n",
      "1                                                \n",
      "R-R        0.867540  0.871510  0.880760  0.875850\n",
      "QTc(B)     0.398060  0.389138  0.408464  0.398876\n",
      "JTc(B)     0.295957  0.275494  0.276687  0.265981\n",
      "TpeakTend  0.061510  0.041880  0.067360  0.050000\n",
      "TQ         0.496780  0.509060  0.499440  0.501510\n",
      "\n",
      "\n",
      "18-1351.csv\n",
      "                  3         4         8\n",
      "1                                      \n",
      "R-R        1.275570  1.301790  1.213880\n",
      "QTc(B)     0.408930  0.350138  0.456092\n",
      "JTc(B)     0.311817  0.258745  0.348787\n",
      "TpeakTend  0.070190  0.076610  0.101050\n",
      "TQ         0.813720  0.906340  0.716920\n",
      "\n",
      "\n",
      "18-752.csv\n",
      "                  3         4         5         6         7         8  \\\n",
      "1                                                                       \n",
      "R-R        1.014256  0.904920  0.961560  1.019400  1.025330  0.941270   \n",
      "QTc(B)     0.325081  0.421903  0.452467  0.414974  0.399503  0.397468   \n",
      "JTc(B)     0.251593  0.351732  0.372911  0.348178  0.321437  0.330451   \n",
      "TpeakTend  0.076320  0.097160  0.094560  0.080570  0.080120  0.092590   \n",
      "TQ         0.686866  0.480020  0.531140  0.612480  0.621970  0.538800   \n",
      "\n",
      "                  9  \n",
      "1                    \n",
      "R-R        1.069660  \n",
      "QTc(B)     0.420361  \n",
      "JTc(B)     0.317752  \n",
      "TpeakTend  0.078920  \n",
      "TQ         0.661830  \n",
      "\n",
      "\n",
      "18-238.csv\n",
      "                  3         4         5         6\n",
      "1                                                \n",
      "R-R        0.872274  0.886310  0.911030  0.908880\n",
      "QTc(B)     0.426037  0.394001  0.400769  0.389500\n",
      "JTc(B)     0.305464  0.271094  0.295621  0.272924\n",
      "TpeakTend  0.065600  0.055910  0.060260  0.591400\n",
      "TQ         0.474374  0.518330  0.533730  0.537110\n",
      "\n",
      "\n",
      "18-122.csv\n",
      "                  3         4         5         6         7         8  \\\n",
      "1                                                                       \n",
      "R-R        0.924231  0.850500  0.945840  0.946790  0.936870  0.869590   \n",
      "QTc(B)     0.416229  0.438167  0.426533  0.431405  0.428105  0.415385   \n",
      "JTc(B)     0.291323  0.317287  0.294678  0.313816  0.292221  0.284331   \n",
      "TpeakTend  0.058080  0.059160  0.040090  0.070960  0.044430  0.054790   \n",
      "TQ         0.524081  0.429260  0.552480  0.527230  0.520310  0.467530   \n",
      "\n",
      "                  9  \n",
      "1                    \n",
      "R-R        0.939350  \n",
      "QTc(B)     0.444099  \n",
      "JTc(B)     0.303608  \n",
      "TpeakTend  0.061660  \n",
      "TQ         0.525220  \n",
      "\n",
      "\n",
      "18-880.csv\n",
      "                  3         4         5         6\n",
      "1                                                \n",
      "R-R        0.845230  0.841270  0.843490  0.830050\n",
      "QTc(B)     0.429090  0.432593  0.430502  0.432451\n",
      "JTc(B)     0.326519  0.324039  0.321454  0.305667\n",
      "TpeakTend  0.078240  0.061450  0.063390  0.067720\n",
      "TQ         0.450740  0.443560  0.448630  0.432880\n",
      "\n",
      "\n",
      ".~lock.18-1351.csv#\n"
     ]
    },
    {
     "ename": "EmptyDataError",
     "evalue": "No columns to parse from file",
     "output_type": "error",
     "traceback": [
      "\u001b[0;31m---------------------------------------------------------------------------\u001b[0m",
      "\u001b[0;31mEmptyDataError\u001b[0m                            Traceback (most recent call last)",
      "\u001b[0;32m<ipython-input-53-47b1006580c3>\u001b[0m in \u001b[0;36m<module>\u001b[0;34m()\u001b[0m\n\u001b[0;32m----> 1\u001b[0;31m \u001b[0mget_short_test_data_from_Svetlana_G\u001b[0m\u001b[0;34m(\u001b[0m\u001b[0mdirpath\u001b[0m\u001b[0;34m=\u001b[0m\u001b[0;34m\"/home/feax/Desktop/FeaxLovesGit/science_work/data/test_data\"\u001b[0m\u001b[0;34m)\u001b[0m\u001b[0;34m\u001b[0m\u001b[0m\n\u001b[0m",
      "\u001b[0;32m<ipython-input-51-e57d78595c49>\u001b[0m in \u001b[0;36mget_short_test_data_from_Svetlana_G\u001b[0;34m(dirpath)\u001b[0m\n\u001b[1;32m      4\u001b[0m         \u001b[0mprint\u001b[0m\u001b[0;34m(\u001b[0m\u001b[0mfile\u001b[0m\u001b[0;34m)\u001b[0m\u001b[0;34m\u001b[0m\u001b[0m\n\u001b[1;32m      5\u001b[0m         df = pd.read_csv(dirpath+\"/\"+file, header=None,\n\u001b[0;32m----> 6\u001b[0;31m                          skiprows=[0,2,3,4,6]+list(range(10, 20)), index_col=1)\n\u001b[0m\u001b[1;32m      7\u001b[0m \u001b[0;34m\u001b[0m\u001b[0m\n\u001b[1;32m      8\u001b[0m         \u001b[0mdf\u001b[0m \u001b[0;34m=\u001b[0m \u001b[0mdf\u001b[0m\u001b[0;34m[\u001b[0m\u001b[0mdf\u001b[0m \u001b[0;34m<\u001b[0m \u001b[0;36m3\u001b[0m\u001b[0;34m]\u001b[0m\u001b[0;34m.\u001b[0m\u001b[0mdropna\u001b[0m\u001b[0;34m(\u001b[0m\u001b[0maxis\u001b[0m\u001b[0;34m=\u001b[0m\u001b[0;36m1\u001b[0m\u001b[0;34m)\u001b[0m\u001b[0;34m\u001b[0m\u001b[0m\n",
      "\u001b[0;32m~/.local/lib/python3.5/site-packages/pandas/io/parsers.py\u001b[0m in \u001b[0;36mparser_f\u001b[0;34m(filepath_or_buffer, sep, delimiter, header, names, index_col, usecols, squeeze, prefix, mangle_dupe_cols, dtype, engine, converters, true_values, false_values, skipinitialspace, skiprows, nrows, na_values, keep_default_na, na_filter, verbose, skip_blank_lines, parse_dates, infer_datetime_format, keep_date_col, date_parser, dayfirst, iterator, chunksize, compression, thousands, decimal, lineterminator, quotechar, quoting, escapechar, comment, encoding, dialect, tupleize_cols, error_bad_lines, warn_bad_lines, skipfooter, skip_footer, doublequote, delim_whitespace, as_recarray, compact_ints, use_unsigned, low_memory, buffer_lines, memory_map, float_precision)\u001b[0m\n\u001b[1;32m    707\u001b[0m                     skip_blank_lines=skip_blank_lines)\n\u001b[1;32m    708\u001b[0m \u001b[0;34m\u001b[0m\u001b[0m\n\u001b[0;32m--> 709\u001b[0;31m         \u001b[0;32mreturn\u001b[0m \u001b[0m_read\u001b[0m\u001b[0;34m(\u001b[0m\u001b[0mfilepath_or_buffer\u001b[0m\u001b[0;34m,\u001b[0m \u001b[0mkwds\u001b[0m\u001b[0;34m)\u001b[0m\u001b[0;34m\u001b[0m\u001b[0m\n\u001b[0m\u001b[1;32m    710\u001b[0m \u001b[0;34m\u001b[0m\u001b[0m\n\u001b[1;32m    711\u001b[0m     \u001b[0mparser_f\u001b[0m\u001b[0;34m.\u001b[0m\u001b[0m__name__\u001b[0m \u001b[0;34m=\u001b[0m \u001b[0mname\u001b[0m\u001b[0;34m\u001b[0m\u001b[0m\n",
      "\u001b[0;32m~/.local/lib/python3.5/site-packages/pandas/io/parsers.py\u001b[0m in \u001b[0;36m_read\u001b[0;34m(filepath_or_buffer, kwds)\u001b[0m\n\u001b[1;32m    447\u001b[0m \u001b[0;34m\u001b[0m\u001b[0m\n\u001b[1;32m    448\u001b[0m     \u001b[0;31m# Create the parser.\u001b[0m\u001b[0;34m\u001b[0m\u001b[0;34m\u001b[0m\u001b[0m\n\u001b[0;32m--> 449\u001b[0;31m     \u001b[0mparser\u001b[0m \u001b[0;34m=\u001b[0m \u001b[0mTextFileReader\u001b[0m\u001b[0;34m(\u001b[0m\u001b[0mfilepath_or_buffer\u001b[0m\u001b[0;34m,\u001b[0m \u001b[0;34m**\u001b[0m\u001b[0mkwds\u001b[0m\u001b[0;34m)\u001b[0m\u001b[0;34m\u001b[0m\u001b[0m\n\u001b[0m\u001b[1;32m    450\u001b[0m \u001b[0;34m\u001b[0m\u001b[0m\n\u001b[1;32m    451\u001b[0m     \u001b[0;32mif\u001b[0m \u001b[0mchunksize\u001b[0m \u001b[0;32mor\u001b[0m \u001b[0miterator\u001b[0m\u001b[0;34m:\u001b[0m\u001b[0;34m\u001b[0m\u001b[0m\n",
      "\u001b[0;32m~/.local/lib/python3.5/site-packages/pandas/io/parsers.py\u001b[0m in \u001b[0;36m__init__\u001b[0;34m(self, f, engine, **kwds)\u001b[0m\n\u001b[1;32m    816\u001b[0m             \u001b[0mself\u001b[0m\u001b[0;34m.\u001b[0m\u001b[0moptions\u001b[0m\u001b[0;34m[\u001b[0m\u001b[0;34m'has_index_names'\u001b[0m\u001b[0;34m]\u001b[0m \u001b[0;34m=\u001b[0m \u001b[0mkwds\u001b[0m\u001b[0;34m[\u001b[0m\u001b[0;34m'has_index_names'\u001b[0m\u001b[0;34m]\u001b[0m\u001b[0;34m\u001b[0m\u001b[0m\n\u001b[1;32m    817\u001b[0m \u001b[0;34m\u001b[0m\u001b[0m\n\u001b[0;32m--> 818\u001b[0;31m         \u001b[0mself\u001b[0m\u001b[0;34m.\u001b[0m\u001b[0m_make_engine\u001b[0m\u001b[0;34m(\u001b[0m\u001b[0mself\u001b[0m\u001b[0;34m.\u001b[0m\u001b[0mengine\u001b[0m\u001b[0;34m)\u001b[0m\u001b[0;34m\u001b[0m\u001b[0m\n\u001b[0m\u001b[1;32m    819\u001b[0m \u001b[0;34m\u001b[0m\u001b[0m\n\u001b[1;32m    820\u001b[0m     \u001b[0;32mdef\u001b[0m \u001b[0mclose\u001b[0m\u001b[0;34m(\u001b[0m\u001b[0mself\u001b[0m\u001b[0;34m)\u001b[0m\u001b[0;34m:\u001b[0m\u001b[0;34m\u001b[0m\u001b[0m\n",
      "\u001b[0;32m~/.local/lib/python3.5/site-packages/pandas/io/parsers.py\u001b[0m in \u001b[0;36m_make_engine\u001b[0;34m(self, engine)\u001b[0m\n\u001b[1;32m   1047\u001b[0m     \u001b[0;32mdef\u001b[0m \u001b[0m_make_engine\u001b[0m\u001b[0;34m(\u001b[0m\u001b[0mself\u001b[0m\u001b[0;34m,\u001b[0m \u001b[0mengine\u001b[0m\u001b[0;34m=\u001b[0m\u001b[0;34m'c'\u001b[0m\u001b[0;34m)\u001b[0m\u001b[0;34m:\u001b[0m\u001b[0;34m\u001b[0m\u001b[0m\n\u001b[1;32m   1048\u001b[0m         \u001b[0;32mif\u001b[0m \u001b[0mengine\u001b[0m \u001b[0;34m==\u001b[0m \u001b[0;34m'c'\u001b[0m\u001b[0;34m:\u001b[0m\u001b[0;34m\u001b[0m\u001b[0m\n\u001b[0;32m-> 1049\u001b[0;31m             \u001b[0mself\u001b[0m\u001b[0;34m.\u001b[0m\u001b[0m_engine\u001b[0m \u001b[0;34m=\u001b[0m \u001b[0mCParserWrapper\u001b[0m\u001b[0;34m(\u001b[0m\u001b[0mself\u001b[0m\u001b[0;34m.\u001b[0m\u001b[0mf\u001b[0m\u001b[0;34m,\u001b[0m \u001b[0;34m**\u001b[0m\u001b[0mself\u001b[0m\u001b[0;34m.\u001b[0m\u001b[0moptions\u001b[0m\u001b[0;34m)\u001b[0m\u001b[0;34m\u001b[0m\u001b[0m\n\u001b[0m\u001b[1;32m   1050\u001b[0m         \u001b[0;32melse\u001b[0m\u001b[0;34m:\u001b[0m\u001b[0;34m\u001b[0m\u001b[0m\n\u001b[1;32m   1051\u001b[0m             \u001b[0;32mif\u001b[0m \u001b[0mengine\u001b[0m \u001b[0;34m==\u001b[0m \u001b[0;34m'python'\u001b[0m\u001b[0;34m:\u001b[0m\u001b[0;34m\u001b[0m\u001b[0m\n",
      "\u001b[0;32m~/.local/lib/python3.5/site-packages/pandas/io/parsers.py\u001b[0m in \u001b[0;36m__init__\u001b[0;34m(self, src, **kwds)\u001b[0m\n\u001b[1;32m   1693\u001b[0m         \u001b[0mkwds\u001b[0m\u001b[0;34m[\u001b[0m\u001b[0;34m'allow_leading_cols'\u001b[0m\u001b[0;34m]\u001b[0m \u001b[0;34m=\u001b[0m \u001b[0mself\u001b[0m\u001b[0;34m.\u001b[0m\u001b[0mindex_col\u001b[0m \u001b[0;32mis\u001b[0m \u001b[0;32mnot\u001b[0m \u001b[0;32mFalse\u001b[0m\u001b[0;34m\u001b[0m\u001b[0m\n\u001b[1;32m   1694\u001b[0m \u001b[0;34m\u001b[0m\u001b[0m\n\u001b[0;32m-> 1695\u001b[0;31m         \u001b[0mself\u001b[0m\u001b[0;34m.\u001b[0m\u001b[0m_reader\u001b[0m \u001b[0;34m=\u001b[0m \u001b[0mparsers\u001b[0m\u001b[0;34m.\u001b[0m\u001b[0mTextReader\u001b[0m\u001b[0;34m(\u001b[0m\u001b[0msrc\u001b[0m\u001b[0;34m,\u001b[0m \u001b[0;34m**\u001b[0m\u001b[0mkwds\u001b[0m\u001b[0;34m)\u001b[0m\u001b[0;34m\u001b[0m\u001b[0m\n\u001b[0m\u001b[1;32m   1696\u001b[0m \u001b[0;34m\u001b[0m\u001b[0m\n\u001b[1;32m   1697\u001b[0m         \u001b[0;31m# XXX\u001b[0m\u001b[0;34m\u001b[0m\u001b[0;34m\u001b[0m\u001b[0m\n",
      "\u001b[0;32mpandas/_libs/parsers.pyx\u001b[0m in \u001b[0;36mpandas._libs.parsers.TextReader.__cinit__\u001b[0;34m()\u001b[0m\n",
      "\u001b[0;31mEmptyDataError\u001b[0m: No columns to parse from file"
     ]
    }
   ],
   "source": [
    "get_short_test_data_from_Svetlana_G(dirpath=\"/home/feax/Desktop/FeaxLovesGit/science_work/data/test_data\")"
   ]
  },
  {
   "cell_type": "code",
   "execution_count": null,
   "metadata": {},
   "outputs": [],
   "source": []
  }
 ],
 "metadata": {
  "kernelspec": {
   "display_name": "Python 3",
   "language": "python",
   "name": "python3"
  },
  "language_info": {
   "codemirror_mode": {
    "name": "ipython",
    "version": 3
   },
   "file_extension": ".py",
   "mimetype": "text/x-python",
   "name": "python",
   "nbconvert_exporter": "python",
   "pygments_lexer": "ipython3",
   "version": "3.5.2"
  }
 },
 "nbformat": 4,
 "nbformat_minor": 2
}
