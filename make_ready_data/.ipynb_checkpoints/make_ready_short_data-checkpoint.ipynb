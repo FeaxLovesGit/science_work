{
 "cells": [
  {
   "cell_type": "markdown",
   "metadata": {},
   "source": [
    "Просто получили массив значений. Каждая строка - отдельный пациент.\n",
    "\n",
    "Признаки в столбцах согласно корректному plot_labels. \n",
    "<br>plot_labels = ['RR', 'TQ', 'QTc', 'JTc', 'TpeakTend'] ------> WRONG!\n",
    "<br>plot_labels = ['QTc', 'JTc', 'TpeakTend', 'TQ', 'RR'] ------> CORRECT!"
   ]
  },
  {
   "cell_type": "code",
   "execution_count": 1,
   "metadata": {},
   "outputs": [],
   "source": [
    "import pandas as pd\n",
    "\n",
    "import numpy as np\n",
    "\n",
    "import os"
   ]
  },
  {
   "cell_type": "code",
   "execution_count": 2,
   "metadata": {},
   "outputs": [],
   "source": [
    "def get_short_test_data_from_Roman(filepath=\"./data/short_test_data_from_Roman.csv\", automatic_measure=True):\n",
    "    df = pd.read_csv(filepath, header=None, index_col=0)\n",
    "    if automatic_measure:\n",
    "        print(df.index[4] + \"is dropped\")\n",
    "        df = df.drop(df.index[4])\n",
    "    else:\n",
    "        print(df.index[3] + \"is dropped\")\n",
    "        df = df.drop(df.index[3])\n",
    "    return df.values.T"
   ]
  },
  {
   "cell_type": "code",
   "execution_count": 13,
   "metadata": {},
   "outputs": [
    {
     "name": "stdout",
     "output_type": "stream",
     "text": [
      "TQ_automaticis dropped\n"
     ]
    },
    {
     "data": {
      "text/plain": [
       "array([[0.41354, 0.29507, 0.05898, 0.42532, 0.85646],\n",
       "       [0.45826, 0.3344 , 0.07132, 0.52151, 0.96893],\n",
       "       [0.4019 , 0.28219, 0.05522, 0.53729, 0.97203],\n",
       "       [0.43372, 0.32206, 0.07995, 0.50022, 0.96538],\n",
       "       [0.42492, 0.30119, 0.05894, 0.45045, 0.88095],\n",
       "       [0.42706, 0.30092, 0.06606, 0.51288, 0.96229]])"
      ]
     },
     "execution_count": 13,
     "metadata": {},
     "output_type": "execute_result"
    }
   ],
   "source": [
    "# get_short_test_data_from_Roman(\"../data/short_test_data_from_Roman.csv\", automatic_measure=False)"
   ]
  },
  {
   "cell_type": "code",
   "execution_count": 4,
   "metadata": {},
   "outputs": [],
   "source": [
    "def get_short_test_data_from_Svetlana_G(dirpath=\"../data/test_data\"):\n",
    "    plot_labels = ['QTc(B)', 'JTc(B)', 'TpeakTend', 'TQ', 'R-R']\n",
    "    list_files = os.listdir(dirpath)\n",
    "    test_patient_data_list = []\n",
    "    for file in list_files:\n",
    "        df = pd.read_csv(dirpath+\"/\"+file, header=None,\n",
    "                         skiprows=[0,2,3,4,6]+list(range(10, 20)), index_col=1)\n",
    "        \n",
    "        df = df[df < 3].dropna(axis=1)\n",
    "        df = df.reindex(plot_labels)\n",
    "        test_patient_data_list.append((file, df.values.T))\n",
    "    return test_patient_data_list"
   ]
  },
  {
   "cell_type": "code",
   "execution_count": 5,
   "metadata": {},
   "outputs": [],
   "source": [
    "# get_short_test_data_from_Svetlana_G(dirpath=\"/home/feax/Desktop/FeaxLovesGit/science_work/data/test_data\")"
   ]
  }
 ],
 "metadata": {
  "kernelspec": {
   "display_name": "Python 3",
   "language": "python",
   "name": "python3"
  },
  "language_info": {
   "codemirror_mode": {
    "name": "ipython",
    "version": 3
   },
   "file_extension": ".py",
   "mimetype": "text/x-python",
   "name": "python",
   "nbconvert_exporter": "python",
   "pygments_lexer": "ipython3",
   "version": "3.5.2"
  }
 },
 "nbformat": 4,
 "nbformat_minor": 2
}
