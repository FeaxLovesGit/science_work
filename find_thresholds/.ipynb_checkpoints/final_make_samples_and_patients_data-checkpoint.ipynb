{
 "cells": [
  {
   "cell_type": "markdown",
   "metadata": {},
   "source": [
    "Notebook is created for vars: \n",
    "1. data_heal, data_sick (not shuffled), data_very_sick\n",
    "2. patients_mean_heal, patients_mean_sick, patients_mean_very_sick"
   ]
  },
  {
   "cell_type": "code",
   "execution_count": 1,
   "metadata": {},
   "outputs": [],
   "source": [
    "%reload_ext autoreload\n",
    "\n",
    "import pandas as pd\n",
    "\n",
    "import numpy as np\n",
    "\n",
    "import matplotlib.pyplot as plt\n",
    "\n",
    "from sklearn.linear_model import LogisticRegression\n",
    "\n",
    "import os, sys\n",
    "parentPath = os.path.abspath(\"..\")\n",
    "if parentPath not in sys.path:\n",
    "    sys.path.insert(0, parentPath)\n",
    "    \n",
    "from make_ready_data.make_ready_big_data import read_data, get_label, get_feat\n",
    "\n",
    "from make_ready_data.make_ready_big_data import look_through_info, get_train_and_test_sets\n",
    "\n",
    "from make_ready_data.make_ready_short_data import get_short_test_data_from_Roman\n",
    "\n",
    "from make_ready_data.make_ready_short_data import get_short_test_data_from_Svetlana_G\n",
    "\n",
    "from make_ready_data.create_features_indeces import get_labels_and_features_indeces\n",
    "\n",
    "from make_ready_data.create_features_indeces import build_plot_for_best_features\n",
    "\n",
    "from testing.testing_functions import testing_sick_patients, \\\n",
    "                    testing_sick_samples, extraxt_samples_from_new_test_data"
   ]
  },
  {
   "cell_type": "code",
   "execution_count": 7,
   "metadata": {},
   "outputs": [
    {
     "name": "stdout",
     "output_type": "stream",
     "text": [
      "TQ_manualis dropped\n"
     ]
    }
   ],
   "source": [
    "info, final_filelist = read_data(dirpath=\"../\")\n",
    "\n",
    "data_sick, data_heal, inds_sick, inds_heal = look_through_info(info, final_filelist, dirpath=\"../\")\n",
    "\n",
    "plot_labels, indlist = get_labels_and_features_indeces()\n",
    "\n",
    "_, _, _, _, patients_data = get_train_and_test_sets(data_sick, data_heal, \n",
    "                                                               inds_sick, inds_heal, 0, \n",
    "                                                               balanced_data=False,\n",
    "                                                               make_shuffle=False)\n",
    "\n",
    "test_patients_data = get_short_test_data_from_Svetlana_G(dirpath='../data/test_data/')\n",
    "\n",
    "test_patients_data.append(('Roman_patient', get_short_test_data_from_Roman(\"../data/short_test_data_from_Roman.csv\")))"
   ]
  },
  {
   "cell_type": "code",
   "execution_count": 5,
   "metadata": {},
   "outputs": [],
   "source": [
    "# get mean vectors of 6 elements from group 1 and group 2\n",
    "def extract_patients_mean_heal_and_sick(patients_data):\n",
    "    patients_mean_heal = np.zeros((0, 6))\n",
    "    patients_mean_sick = np.zeros((0, 6))\n",
    "    for i,data in enumerate(patients_data):\n",
    "        if data[0,-1] == 0:\n",
    "            patients_mean_heal =np.concatenate((patients_mean_heal, data.mean(axis=0).reshape((1, -1))))\n",
    "        else:\n",
    "            patients_mean_sick =np.concatenate((patients_mean_sick, data.mean(axis=0).reshape((1, -1))))\n",
    "    return patients_mean_heal, patients_mean_sick\n",
    "patients_mean_heal, patients_mean_sick = extract_patients_mean_heal_and_sick(patients_data)"
   ]
  },
  {
   "cell_type": "code",
   "execution_count": 8,
   "metadata": {},
   "outputs": [],
   "source": [
    "# 92 samples from 18 very sick patients\n",
    "def extract_data_very_sick(test_patients_data):\n",
    "    data_very_sick = np.zeros((0, 5))\n",
    "    for data in test_patients_data:\n",
    "        data_very_sick =np.concatenate((data_very_sick, data[1]))\n",
    "    ones = np.ones((data_very_sick.shape[0], 1))    \n",
    "    data_very_sick = np.concatenate((data_very_sick, ones), axis=1)\n",
    "    return data_very_sick\n",
    "data_very_sick = extract_data_very_sick(test_patients_data)"
   ]
  },
  {
   "cell_type": "code",
   "execution_count": 9,
   "metadata": {},
   "outputs": [],
   "source": [
    "# get mean vector of 5 elements from group 3\n",
    "def extract_patients_mean_very_sick(test_patients_data):\n",
    "    patients_mean_very_sick = np.zeros((len(test_patients_data), 5))\n",
    "    for i,data in enumerate(test_patients_data):\n",
    "        patients_mean_very_sick[i] = data[1].mean(axis=0)\n",
    "    return patients_mean_very_sick\n",
    "patients_mean_very_sick = extract_patients_mean_very_sick(test_patients_data)"
   ]
  },
  {
   "cell_type": "code",
   "execution_count": null,
   "metadata": {},
   "outputs": [],
   "source": []
  }
 ],
 "metadata": {
  "kernelspec": {
   "display_name": "Python 3",
   "language": "python",
   "name": "python3"
  },
  "language_info": {
   "codemirror_mode": {
    "name": "ipython",
    "version": 3
   },
   "file_extension": ".py",
   "mimetype": "text/x-python",
   "name": "python",
   "nbconvert_exporter": "python",
   "pygments_lexer": "ipython3",
   "version": "3.6.5"
  }
 },
 "nbformat": 4,
 "nbformat_minor": 2
}
