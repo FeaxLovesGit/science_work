{
 "cells": [
  {
   "cell_type": "code",
   "execution_count": 4,
   "metadata": {},
   "outputs": [],
   "source": [
    "import numpy as np\n",
    "\n",
    "from sklearn.linear_model import LogisticRegression"
   ]
  },
  {
   "cell_type": "code",
   "execution_count": 5,
   "metadata": {},
   "outputs": [],
   "source": [
    "def extraxt_samples_from_new_test_data(test_patients_data):\n",
    "    patients_samples = np.empty((0, 5))\n",
    "    for data in test_patients_data:\n",
    "        patients_samples = np.concatenate((patients_samples, data[1]))\n",
    "    return patients_samples"
   ]
  },
  {
   "cell_type": "code",
   "execution_count": 6,
   "metadata": {},
   "outputs": [],
   "source": [
    "def testing_sick_samples(data_sick, data_heal, indlist, test_patients_samples):\n",
    "    all_data = np.concatenate((data_heal, data_sick))\n",
    "    res = np.zeros(len(indlist))\n",
    "    for i, inds in enumerate(indlist):\n",
    "        clf = LogisticRegression(C=1000.)\n",
    "        clf.fit(all_data[:, inds], all_data[:, -1])\n",
    "        res[i] = clf.predict(test_patients_samples[:, inds]).sum() / test_patients_samples.shape[0]\n",
    "    return res"
   ]
  },
  {
   "cell_type": "code",
   "execution_count": 7,
   "metadata": {},
   "outputs": [],
   "source": [
    "def testing_sick_patients(data_sick, data_heal, indlist, test_patients_data, C=1000, print_log=True):\n",
    "    all_data = np.concatenate((data_heal, data_sick))\n",
    "    res_for_patients = np.zeros(len(indlist))\n",
    "    for i, inds in enumerate(indlist):\n",
    "        if print_log:\n",
    "            print(inds)\n",
    "        clf = LogisticRegression(C=C)\n",
    "        clf.fit(all_data[:, inds], all_data[:, -1])\n",
    "        for j in range(len(test_patients_data)):\n",
    "            res = clf.predict(test_patients_data[j][1][:, inds])\n",
    "            log_ans = round(res.sum() / res.shape[0] + 0.0001)\n",
    "            if print_log:\n",
    "                print(test_patients_data[j][0], int(log_ans), res)\n",
    "            res_for_patients[i] += log_ans\n",
    "        if print_log:\n",
    "            print()\n",
    "    res_for_patients = res_for_patients / len(test_patients_data)\n",
    "    return res_for_patients"
   ]
  },
  {
   "cell_type": "code",
   "execution_count": null,
   "metadata": {},
   "outputs": [],
   "source": []
  }
 ],
 "metadata": {
  "kernelspec": {
   "display_name": "Python 3",
   "language": "python",
   "name": "python3"
  },
  "language_info": {
   "codemirror_mode": {
    "name": "ipython",
    "version": 3
   },
   "file_extension": ".py",
   "mimetype": "text/x-python",
   "name": "python",
   "nbconvert_exporter": "python",
   "pygments_lexer": "ipython3",
   "version": "3.5.2"
  }
 },
 "nbformat": 4,
 "nbformat_minor": 2
}
